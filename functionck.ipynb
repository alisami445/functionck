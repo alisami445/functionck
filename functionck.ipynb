{
 "cells": [
  {
   "cell_type": "markdown",
   "metadata": {},
   "source": [
    "# ex1"
   ]
  },
  {
   "cell_type": "code",
   "execution_count": 3,
   "metadata": {},
   "outputs": [
    {
     "data": {
      "text/plain": [
       "8"
      ]
     },
     "execution_count": 3,
     "metadata": {},
     "output_type": "execute_result"
    }
   ],
   "source": [
    "def maximum(a,b,c):\n",
    "    if a>b and a>c:\n",
    "        return a\n",
    "    if b>a and b>c:\n",
    "        return b\n",
    "    if c>a and c>b:\n",
    "        return c\n",
    "    elif a==b:\n",
    "        return a\n",
    "    elif a==c:\n",
    "        return a\n",
    "    elif b==c:\n",
    "        return b\n",
    "    \n",
    "        \n",
    "maximum(8,5,4)"
   ]
  },
  {
   "cell_type": "markdown",
   "metadata": {},
   "source": [
    "# ex2"
   ]
  },
  {
   "cell_type": "code",
   "execution_count": 2,
   "metadata": {},
   "outputs": [
    {
     "data": {
      "text/plain": [
       "(50, 30)"
      ]
     },
     "execution_count": 2,
     "metadata": {},
     "output_type": "execute_result"
    }
   ],
   "source": [
    "def calculation(a,b):\n",
    "    x=a+b\n",
    "    y=a-b\n",
    "    return x , y\n",
    "calculation(40,10)"
   ]
  },
  {
   "cell_type": "markdown",
   "metadata": {},
   "source": [
    "# ex3"
   ]
  },
  {
   "cell_type": "code",
   "execution_count": 1,
   "metadata": {},
   "outputs": [
    {
     "name": "stdout",
     "output_type": "stream",
     "text": [
      "donner num : 3\n",
      "donner num list : 1\n",
      "donner num list : 2\n",
      "donner num list : 3\n",
      "sum de list est 6\n",
      "multiplie de list est 3\n",
      "additionner de position pair est 2 le multiplie de reste 3\n"
     ]
    },
    {
     "data": {
      "text/plain": [
       "(2, 3)"
      ]
     },
     "execution_count": 1,
     "metadata": {},
     "output_type": "execute_result"
    }
   ],
   "source": [
    "n=int(input(\"donner num : \"))\n",
    "k=[]\n",
    "s=0\n",
    "f=1\n",
    "l=0\n",
    "b=1\n",
    "for i in range (n):\n",
    "    m=int(input(\"donner num list : \"))\n",
    "    k.append(m)\n",
    "def sums(k,s):\n",
    "    for i in k :\n",
    "        s+=i\n",
    "    print(f\"sum de list est {s}\")\n",
    "    return s\n",
    "def mult(k,f):\n",
    "    for i in k :\n",
    "        f=i\n",
    "    print(f\"multiplie de list est {f}\")\n",
    "    return f\n",
    "def pos(k,b,l):\n",
    "    for i in k:\n",
    "        if i%2 == 0:\n",
    "            l+=i\n",
    "        else:\n",
    "            b*=i\n",
    "    print(f\"additionner de position pair est {l} le multiplie de reste {b}\")\n",
    "    return l,b\n",
    "\n",
    "sum(k,s)\n",
    "mult(k,f)\n",
    "pos(k,b,l)"
   ]
  },
  {
   "cell_type": "markdown",
   "metadata": {},
   "source": [
    "# ex4"
   ]
  },
  {
   "cell_type": "code",
   "execution_count": null,
   "metadata": {},
   "outputs": [],
   "source": [
    "b=input(\"donner une chaine\")\n",
    "def hs(b):\n",
    "    l = b.split('-')\n",
    "    l.sort()\n",
    "    print(\"-\".join(l))\n",
    "hs(b)"
   ]
  },
  {
   "cell_type": "markdown",
   "metadata": {},
   "source": [
    "# ex5"
   ]
  },
  {
   "cell_type": "code",
   "execution_count": 6,
   "metadata": {},
   "outputs": [
    {
     "name": "stdout",
     "output_type": "stream",
     "text": [
      "x = 5\n",
      "res =  4\n"
     ]
    }
   ],
   "source": [
    "def mat():\n",
    "    ch = []\n",
    "    D = input('x = ')\n",
    "    D = D.split(',')\n",
    "    for e in D:\n",
    "        e = int(e)\n",
    "        formula = math.sqrt((2 * 50 * e)/30)\n",
    "        formula = str(int(formula))\n",
    "        ch.append(formula)\n",
    "    ch = ','.join(ch)\n",
    "    return ch\n",
    "ch = mat()\n",
    "print(\"res = \",ch)"
   ]
  },
  {
   "cell_type": "code",
   "execution_count": null,
   "metadata": {},
   "outputs": [],
   "source": []
  }
 ],
 "metadata": {
  "kernelspec": {
   "display_name": "Python 3",
   "language": "python",
   "name": "python3"
  },
  "language_info": {
   "codemirror_mode": {
    "name": "ipython",
    "version": 3
   },
   "file_extension": ".py",
   "mimetype": "text/x-python",
   "name": "python",
   "nbconvert_exporter": "python",
   "pygments_lexer": "ipython3",
   "version": "3.8.5"
  }
 },
 "nbformat": 4,
 "nbformat_minor": 4
}
